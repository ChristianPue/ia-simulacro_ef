{
 "cells": [
  {
   "cell_type": "code",
   "execution_count": 1,
   "id": "55be01f3",
   "metadata": {},
   "outputs": [],
   "source": [
    "# 📍 Generar topología circular automáticamente\n",
    "def get_neighbors_circular(neuron_names):\n",
    "  neighbors_of = {}\n",
    "  n = len(neuron_names)\n",
    "  for i, name in enumerate(neuron_names):\n",
    "    # Vecinos son el anterior y el siguiente en el anillo\n",
    "    prev = neuron_names[(i - 1) % n]\n",
    "    next = neuron_names[(i + 1) % n]\n",
    "    neighbors_of[name] = [prev, next]\n",
    "  return neighbors_of\n",
    "\n",
    "# 📐 Calcular distancia euclidiana entre cada neurona y una entrada\n",
    "def compute_distances(neurons, V):\n",
    "  distances = {}\n",
    "  for name, weight in neurons.items():\n",
    "    # Distancia euclidiana sin NumPy\n",
    "    squared_diff = sum((v - w) ** 2 for v, w in zip(V, weight))\n",
    "    distances[name] = squared_diff ** 0.5\n",
    "  return distances\n",
    "\n",
    "# 🎯 Actualización de pesos según la fórmula dada\n",
    "def update_weights(neurons, V, BMU, neighbors_of):\n",
    "  updated = {}\n",
    "  for name, weight in neurons.items():\n",
    "    if name == BMU:\n",
    "      L = 0.5\n",
    "    elif name in neighbors_of.get(BMU, []):\n",
    "      L = 0.25\n",
    "    else:\n",
    "      L = 0.0\n",
    "    # Actualizar pesos sin NumPy\n",
    "    updated[name] = [w + L * (v - w) for v, w in zip(V, weight)]\n",
    "  return updated\n",
    "\n",
    "# 🧠 Función principal para calcular SOM con múltiples entradas\n",
    "def som(neurons, inputs):\n",
    "  # Crear una lista circular para vecinos\n",
    "  neuron_names = list(neurons.keys())\n",
    "  neighbors_of = get_neighbors_circular(neuron_names)\n",
    "    \n",
    "  # Copia de neuronas para actualizar iterativamente\n",
    "  current_neurons = {name: weights[:] for name, weights in neurons.items()}\n",
    "    \n",
    "  # Procesar cada entrada en el diccionario\n",
    "  for input_name, V in inputs.items():\n",
    "    # Paso 1: Calcular la distancia de cada neurona\n",
    "    distances = compute_distances(current_neurons, V)\n",
    "        \n",
    "    # Paso 2: Identificar la BMU\n",
    "    BMU = min(distances, key=distances.get)\n",
    "        \n",
    "    # Paso 3: Actualizar los pesos de cada neurona\n",
    "    current_neurons = update_weights(current_neurons, V, BMU, neighbors_of)\n",
    "        \n",
    "    # Mostrar resultados parciales para esta entrada\n",
    "    print(f\"\\nResultados después de procesar {input_name}:\")\n",
    "    for name, weight in current_neurons.items():\n",
    "      print(f\"{name}: [{weight[0]:.3f}, {weight[1]:.3f}]\")\n",
    "    \n",
    "  return current_neurons"
   ]
  },
  {
   "cell_type": "code",
   "execution_count": 2,
   "id": "476f5e61",
   "metadata": {},
   "outputs": [
    {
     "name": "stdout",
     "output_type": "stream",
     "text": [
      "\n",
      "Resultados después de procesar V1:\n",
      "A: [-2.250, 2.250]\n",
      "B: [-0.625, -0.125]\n",
      "C: [-1.000, -1.500]\n",
      "D: [-0.625, 1.375]\n",
      "\n",
      "Resultados después de procesar V2:\n",
      "A: [-2.250, 2.250]\n",
      "B: [-1.344, -0.719]\n",
      "C: [-2.250, -2.000]\n",
      "D: [-1.344, 0.406]\n"
     ]
    }
   ],
   "source": [
    "# 📌 Definimos neuronas con sus identificadores y pesos iniciales\n",
    "neurons = {\n",
    "  'A': [-0.5, 0.5],\n",
    "  'B': [0.5, -1.5],\n",
    "  'C': [-1, -1.5],\n",
    "  'D': [0.5, 0.5]\n",
    "}\n",
    "\n",
    "# Entradas de entrenamiento\n",
    "inputs = {\n",
    "  'V1': [-4, 4],\n",
    "  'V2': [-3.5, -2.5]\n",
    "}\n",
    "\n",
    "# Ejecutamos el SOM\n",
    "updated_neurons = som(neurons, inputs)"
   ]
  }
 ],
 "metadata": {
  "kernelspec": {
   "display_name": "Python 3",
   "language": "python",
   "name": "python3"
  },
  "language_info": {
   "codemirror_mode": {
    "name": "ipython",
    "version": 3
   },
   "file_extension": ".py",
   "mimetype": "text/x-python",
   "name": "python",
   "nbconvert_exporter": "python",
   "pygments_lexer": "ipython3",
   "version": "3.12.5"
  }
 },
 "nbformat": 4,
 "nbformat_minor": 5
}
