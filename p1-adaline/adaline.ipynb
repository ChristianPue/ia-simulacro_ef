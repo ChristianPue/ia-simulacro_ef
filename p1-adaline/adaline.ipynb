{
 "cells": [
  {
   "cell_type": "code",
   "execution_count": 1,
   "id": "14d9c81b",
   "metadata": {},
   "outputs": [],
   "source": [
    "import numpy as np\n",
    "\n",
    "def adaline(table, initial_weights, threshold, learning_rate, iterations):\n",
    "  \"\"\"\n",
    "  Entrena una red Adaline con una sola iteración completa sobre el conjunto de datos.\n",
    "  \n",
    "  Parámetros:\n",
    "  - table: numpy array con las entradas (xn) y la salida esperada (dx)\n",
    "  - initial_weights: lista de pesos iniciales [w1, w2, ..., wn]\n",
    "  - threshold: valor del umbral o sesgo\n",
    "  - tasa: tasa de aprendizaje η\n",
    "  \n",
    "  Retorna:\n",
    "  - updated_weights: lista con los nuevos pesos\n",
    "  - errors: lista de errores por fila\n",
    "  - ECM: error cuadrático medio\n",
    "  \"\"\"\n",
    "\n",
    "  # Inicialización\n",
    "  weights = np.array(initial_weights, dtype=float)\n",
    "\n",
    "  for i in range(iterations):\n",
    "    errors = [] # Inicializar arreglo de errores\n",
    "\n",
    "    for row in table:\n",
    "      xn = row[:-1] # Entradas\n",
    "      dx = row[-1]  # Salida esperada\n",
    "\n",
    "      # 1. Calcular la salida de la neurona\n",
    "      y = np.dot(weights, xn) + threshold\n",
    "\n",
    "      # 2. Calcular el porcentaje de error simple\n",
    "      e = dx - y\n",
    "      errors.append(e)\n",
    "\n",
    "      # 3. Actualizar cada peso\n",
    "      for n in range(len(weights)):\n",
    "        weights[n] = weights[n] + learning_rate * e * xn[n]\n",
    "\n",
    "    # 4. Calcular el ECM\n",
    "    ECM = sum([e**2 for e in errors]) / len(errors)\n",
    "\n",
    "    # Mostrar el resultado de la <i> iteración\n",
    "    print(f\"Resultado de la iteración {i + 1}:\")\n",
    "    print(f\"Pesos: {weights.tolist()}, Error: {errors[-1]}, ECM: {ECM}\")\n",
    "\n",
    "  return weights.tolist(), errors[-1], ECM\n"
   ]
  },
  {
   "cell_type": "code",
   "execution_count": 2,
   "id": "e35eb3a6",
   "metadata": {},
   "outputs": [
    {
     "name": "stdout",
     "output_type": "stream",
     "text": [
      "Resultado de la iteración 1:\n",
      "Pesos: [0.197414375, 0.7845956249999999], Error: 0.022487500000000105, ECM: 1.0760456777604168\n",
      "Resultado de la iteración 2:\n",
      "Pesos: [0.13218635959296873, 0.7875103183195312], Error: 0.10037915260937513, ECM: 0.15289721718645802\n",
      "Resultado de la iteración 3:\n",
      "Pesos: [0.12612804657437854, 0.7827442022596602], Error: 0.11390968895745146, ECM: 0.15361098457377806\n",
      "Resultado de la iteración 4:\n",
      "Pesos: [0.125376720928601, 0.7810549714251764], Error: 0.11696038455777824, ECM: 0.15304187969684943\n",
      "Resultado de la iteración 5:\n",
      "Pesos: [0.12524241740418868, 0.7805736986492235], Error: 0.11772985493323473, ECM: 0.15273800299398443\n",
      "Resultado de la iteración 6:\n",
      "Pesos: [0.12521169440314628, 0.7804432904317439], Error: 0.11793126895638728, ECM: 0.15264534431518673\n",
      "Resultado de la iteración 7:\n",
      "Pesos: [0.12520390551583532, 0.78040843121574], Error: 0.11798457908553084, ECM: 0.15261980472374076\n",
      "Resultado de la iteración 8:\n",
      "Pesos: [0.1252018635358545, 0.7803991486923278], Error: 0.11799873471477207, ECM: 0.15261294516021676\n",
      "Resultado de la iteración 9:\n",
      "Pesos: [0.1252013228194374, 0.7803966795855408], Error: 0.11800249699377707, ECM: 0.1526111160514427\n",
      "Resultado de la iteración 10:\n",
      "Pesos: [0.12520117922221286, 0.7803960230202682], Error: 0.11800349719689873, ECM: 0.15261062932447764\n"
     ]
    },
    {
     "data": {
      "text/plain": [
       "([0.12520117922221286, 0.7803960230202682],\n",
       " 0.11800349719689873,\n",
       " 0.15261062932447764)"
      ]
     },
     "execution_count": 2,
     "metadata": {},
     "output_type": "execute_result"
    }
   ],
   "source": [
    "# Datos: x1, x2, dx\n",
    "tabla_datos = [\n",
    "  (-2, -1, -1),\n",
    "  (-1, -1.5, -1),\n",
    "  (2, -2, -1),\n",
    "  (-2, 1, 1),\n",
    "  (1.5, 0.5, 1),\n",
    "  (1, 1, 1)\n",
    "]\n",
    "\n",
    "pesos_iniciales = [1.0, 0.5]\n",
    "umbral = 0.0\n",
    "tasa_aprendizaje = 0.1\n",
    "iteraciones = 10\n",
    "\n",
    "adaline(tabla_datos, pesos_iniciales, umbral, tasa_aprendizaje, iteraciones)"
   ]
  },
  {
   "cell_type": "code",
   "execution_count": 3,
   "id": "b8755e78",
   "metadata": {},
   "outputs": [
    {
     "name": "stdout",
     "output_type": "stream",
     "text": [
      "Resultado de la iteración 1:\n",
      "Pesos: [3.1255462799999996, 2.00185528, 1.8607615800000001], Error: 0.11836860000000016, ECM: 3.392016837823852\n",
      "Resultado de la iteración 2:\n",
      "Pesos: [3.6101157340344, 1.9851622818544001, 1.4231924323284002], Error: -0.18470448217200008, ECM: 0.35436375488792465\n",
      "Resultado de la iteración 3:\n",
      "Pesos: [3.8241869561243003, 1.9822334175625838, 1.2024876809120422], Error: -0.08908054598926096, ECM: 0.07822782981388662\n",
      "Resultado de la iteración 4:\n",
      "Pesos: [3.9209407080402565, 1.9867460449411143, 1.0964813606102295], Error: -0.04168113591599365, ECM: 0.01705726629365992\n",
      "Resultado de la iteración 5:\n",
      "Pesos: [3.9645652020401485, 1.9915664905718342, 1.0458122028896406], Error: -0.01943895501623505, ECM: 0.003716690914585679\n",
      "Resultado de la iteración 6:\n",
      "Pesos: [3.98417318838752, 1.9950489620799734, 1.0216820419115438], Error: -0.00904192379037383, ECM: 0.0008093393501294408\n",
      "Resultado de la iteración 7:\n",
      "Pesos: [3.9929572660047397, 1.9972323418625761, 1.0102298874466442], Error: -0.004194953139599278, ECM: 0.00017609686674135562\n",
      "Resultado de la iteración 8:\n",
      "Pesos: [3.996878583300159, 1.998503250024018, 1.0048122928267182], Error: -0.0019412615089553498, ECM: 3.827761013410088e-05\n",
      "Resultado de la iteración 9:\n",
      "Pesos: [3.9986225405578506, 1.9992097480529447, 1.0022573175901535], Error: -0.000896062009489107, ECM: 8.310817412460568e-06\n",
      "Resultado de la iteración 10:\n",
      "Pesos: [3.9993950125490674, 1.9995903190861484, 1.0010559246367112], Error: -0.0004125627192674841, ECM: 1.8021446223219834e-06\n"
     ]
    },
    {
     "data": {
      "text/plain": [
       "([3.9993950125490674, 1.9995903190861484, 1.0010559246367112],\n",
       " -0.0004125627192674841,\n",
       " 1.8021446223219834e-06)"
      ]
     },
     "execution_count": 3,
     "metadata": {},
     "output_type": "execute_result"
    }
   ],
   "source": [
    "tabla_datos = [\n",
    "  (0, 0, 1, 1),\n",
    "  (0, 1, 0, 2),\n",
    "  (0, 1, 1, 3),\n",
    "  (1, 0, 0, 4),\n",
    "  (1, 0, 1, 5),\n",
    "  (1, 1, 0, 6),\n",
    "  (1, 1, 1, 7)\n",
    "]\n",
    "\n",
    "pesos_iniciales = [0.84, 0.394, 0.783]\n",
    "umbral = 0.0\n",
    "tasa_aprendizaje = 0.3\n",
    "iteraciones = 10\n",
    "\n",
    "adaline(tabla_datos, pesos_iniciales, umbral, tasa_aprendizaje, iteraciones)"
   ]
  }
 ],
 "metadata": {
  "kernelspec": {
   "display_name": "Python 3",
   "language": "python",
   "name": "python3"
  },
  "language_info": {
   "codemirror_mode": {
    "name": "ipython",
    "version": 3
   },
   "file_extension": ".py",
   "mimetype": "text/x-python",
   "name": "python",
   "nbconvert_exporter": "python",
   "pygments_lexer": "ipython3",
   "version": "3.12.5"
  }
 },
 "nbformat": 4,
 "nbformat_minor": 5
}
