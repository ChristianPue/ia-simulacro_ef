{
 "cells": [
  {
   "cell_type": "code",
   "execution_count": 1,
   "id": "32eb5ae1",
   "metadata": {},
   "outputs": [],
   "source": [
    "# Función para aplicar una regla de producción\n",
    "def apply_rule(symbol_list, non_terminal, production_index, grammar):\n",
    "  new_list = []\n",
    "  found = False\n",
    "  \n",
    "  for symbol in symbol_list:\n",
    "    if symbol == non_terminal and not found:\n",
    "      # Reemplazar el no terminal por su producción\n",
    "      new_list.extend(grammar[non_terminal][production_index])\n",
    "      found = True\n",
    "    else:\n",
    "      # Mantener símbolos existentes\n",
    "      new_list.append(symbol)\n",
    "  \n",
    "  return new_list\n",
    "\n",
    "# Simulación de la derivación\n",
    "def simulate_derivation(grammar, rule_sequence):\n",
    "  # Estado inicial\n",
    "  current_state = [\"<frase>\"]\n",
    "  print(f\"Paso 0: {' '.join(current_state)}\")\n",
    "  \n",
    "  # Aplicar cada regla en secuencia\n",
    "  for step, (non_terminal, prod_index) in enumerate(rule_sequence, 1):\n",
    "    current_state = apply_rule(current_state, non_terminal, prod_index, grammar)\n",
    "    print(f\"Paso {step}: {' '.join(current_state)} [Aplica {non_terminal}]\")\n",
    "  \n",
    "  # Verificar resultado final\n",
    "  final_phrase = ' '.join(current_state)\n",
    "  assert final_phrase == \"juan ama paula\", \"¡La derivación es incorrecta!\"\n",
    "  return final_phrase"
   ]
  },
  {
   "cell_type": "code",
   "execution_count": 2,
   "id": "741fa9ee",
   "metadata": {},
   "outputs": [
    {
     "name": "stdout",
     "output_type": "stream",
     "text": [
      "Paso 0: <frase>\n",
      "Paso 1: <sujeto> <predicado> [Aplica <frase>]\n",
      "Paso 2: juan <predicado> [Aplica <sujeto>]\n",
      "Paso 3: juan <verbo transitivo> <objeto directo> [Aplica <predicado>]\n",
      "Paso 4: juan ama <objeto directo> [Aplica <verbo transitivo>]\n",
      "Paso 5: juan ama paula [Aplica <objeto directo>]\n",
      "\n",
      "Resultado final: juan ama paula\n",
      "✅ Derivación válida - coincide con 'juan ama paula'\n"
     ]
    }
   ],
   "source": [
    "# Definición de la gramática\n",
    "grammar = {\n",
    "  \"<frase>\": [[\"<sujeto>\", \"<predicado>\"]],\n",
    "  \"<sujeto>\": [[\"juan\"]],\n",
    "  \"<predicado>\": [[\"<verbo transitivo>\", \"<objeto directo>\"]],\n",
    "  \"<verbo transitivo>\": [[\"ama\"]],\n",
    "  \"<objeto directo>\": [[\"paula\"]]\n",
    "}\n",
    "\n",
    "# Secuencia de reglas a aplicar (en orden)\n",
    "rule_sequence = [\n",
    "  (\"<frase>\", 0),\n",
    "  (\"<sujeto>\", 0),\n",
    "  (\"<predicado>\", 0),\n",
    "  (\"<verbo transitivo>\", 0),\n",
    "  (\"<objeto directo>\", 0)\n",
    "]\n",
    "\n",
    "result = simulate_derivation(grammar, rule_sequence)\n",
    "print(\"\\nResultado final:\", result)\n",
    "print(\"✅ Derivación válida - coincide con 'juan ama paula'\")"
   ]
  }
 ],
 "metadata": {
  "kernelspec": {
   "display_name": "Python 3",
   "language": "python",
   "name": "python3"
  },
  "language_info": {
   "codemirror_mode": {
    "name": "ipython",
    "version": 3
   },
   "file_extension": ".py",
   "mimetype": "text/x-python",
   "name": "python",
   "nbconvert_exporter": "python",
   "pygments_lexer": "ipython3",
   "version": "3.12.5"
  }
 },
 "nbformat": 4,
 "nbformat_minor": 5
}
